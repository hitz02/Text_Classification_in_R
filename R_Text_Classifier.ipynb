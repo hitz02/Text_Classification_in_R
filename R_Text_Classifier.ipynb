{
  "nbformat": 4,
  "nbformat_minor": 0,
  "metadata": {
    "colab": {
      "name": "R_Text_Classifier.ipynb",
      "provenance": [],
      "collapsed_sections": []
    },
    "kernelspec": {
      "name": "ir",
      "display_name": "R"
    },
    "language_info": {
      "name": "R"
    }
  },
  "cells": [
    {
      "cell_type": "code",
      "metadata": {
        "colab": {
          "base_uri": "https://localhost:8080/"
        },
        "id": "AVOL660f0-Is",
        "outputId": "1d7c02e9-81d1-424c-f853-e5fc7cbf6adc"
      },
      "source": [
        "#Install libraries\n",
        "install.packages(\"keras\")\n",
        "install.packages(\"dplyr\")\n",
        "install.packages(\"ggplot2\")\n",
        "install.packages(\"purrr\")\n",
        "install.packages(\"caret\")\n",
        "install.packages(\"SnowballC\")\n",
        "install.packages(\"ggplot2\")\n",
        "install.packages(\"tm\")\n",
        "install.packages(\"wordcloud\")\n",
        "install.packages('e1071')"
      ],
      "execution_count": 1,
      "outputs": [
        {
          "output_type": "stream",
          "text": [
            "Installing package into ‘/usr/local/lib/R/site-library’\n",
            "(as ‘lib’ is unspecified)\n",
            "\n",
            "also installing the dependencies ‘png’, ‘config’, ‘tfautograph’, ‘reticulate’, ‘tensorflow’, ‘tfruns’, ‘zeallot’\n",
            "\n",
            "\n",
            "Installing package into ‘/usr/local/lib/R/site-library’\n",
            "(as ‘lib’ is unspecified)\n",
            "\n",
            "Installing package into ‘/usr/local/lib/R/site-library’\n",
            "(as ‘lib’ is unspecified)\n",
            "\n",
            "Installing package into ‘/usr/local/lib/R/site-library’\n",
            "(as ‘lib’ is unspecified)\n",
            "\n",
            "Installing package into ‘/usr/local/lib/R/site-library’\n",
            "(as ‘lib’ is unspecified)\n",
            "\n",
            "also installing the dependencies ‘numDeriv’, ‘SQUAREM’, ‘lava’, ‘prodlim’, ‘iterators’, ‘gower’, ‘ipred’, ‘timeDate’, ‘foreach’, ‘plyr’, ‘ModelMetrics’, ‘reshape2’, ‘recipes’, ‘pROC’\n",
            "\n",
            "\n"
          ],
          "name": "stderr"
        }
      ]
    },
    {
      "cell_type": "code",
      "metadata": {
        "colab": {
          "base_uri": "https://localhost:8080/"
        },
        "id": "HfPeIXGD0WFd",
        "outputId": "6afbe0f4-99c3-4021-fcc5-600e6637cad5"
      },
      "source": [
        "#load the libraries\n",
        "library(keras)\n",
        "library(dplyr)\n",
        "library(ggplot2)\n",
        "library(purrr)\n",
        "library(caret)\n",
        "library(SnowballC)\n",
        "library(ggplot2)\n",
        "library(tm)\n",
        "library(wordcloud)\n",
        "library(knitr)\n",
        "library(e1071)"
      ],
      "execution_count": 3,
      "outputs": [
        {
          "output_type": "stream",
          "text": [
            "\n",
            "Attaching package: ‘dplyr’\n",
            "\n",
            "\n",
            "The following objects are masked from ‘package:stats’:\n",
            "\n",
            "    filter, lag\n",
            "\n",
            "\n",
            "The following objects are masked from ‘package:base’:\n",
            "\n",
            "    intersect, setdiff, setequal, union\n",
            "\n",
            "\n",
            "Loading required package: lattice\n",
            "\n",
            "Warning message in system(\"timedatectl\", intern = TRUE):\n",
            "“running command 'timedatectl' had status 1”\n",
            "\n",
            "Attaching package: ‘caret’\n",
            "\n",
            "\n",
            "The following object is masked from ‘package:purrr’:\n",
            "\n",
            "    lift\n",
            "\n",
            "\n"
          ],
          "name": "stderr"
        }
      ]
    },
    {
      "cell_type": "code",
      "metadata": {
        "colab": {
          "base_uri": "https://localhost:8080/"
        },
        "id": "B0RCMwl109oM",
        "outputId": "c1e8c326-eb44-4638-e3ad-30e9066b0822"
      },
      "source": [
        "# Read data\n",
        "df <- readr::read_csv('cleaned_anon.csv')\n",
        "# head(df)"
      ],
      "execution_count": 6,
      "outputs": [
        {
          "output_type": "stream",
          "text": [
            "\u001b[1m\u001b[1mRows: \u001b[1m\u001b[22m\u001b[34m\u001b[34m4199\u001b[34m\u001b[39m \u001b[1m\u001b[1mColumns: \u001b[1m\u001b[22m\u001b[34m\u001b[34m6\u001b[34m\u001b[39m\n",
            "\n",
            "\u001b[36m──\u001b[39m \u001b[1m\u001b[1mColumn specification\u001b[1m\u001b[22m \u001b[36m────────────────────────────────────────────────────────\u001b[39m\n",
            "\u001b[1mDelimiter:\u001b[22m \",\"\n",
            "\u001b[31mchr\u001b[39m (3): decision, narrative, title\n",
            "\u001b[32mdbl\u001b[39m (3): submitted, id, requested\n",
            "\n",
            "\n",
            "\u001b[36mℹ\u001b[39m Use \u001b[30m\u001b[47m\u001b[30m\u001b[47m`spec()`\u001b[47m\u001b[30m\u001b[49m\u001b[39m to retrieve the full column specification for this data.\n",
            "\u001b[36mℹ\u001b[39m Specify the column types or set \u001b[30m\u001b[47m\u001b[30m\u001b[47m`show_col_types = FALSE`\u001b[47m\u001b[30m\u001b[49m\u001b[39m to quiet this message.\n",
            "\n"
          ],
          "name": "stderr"
        }
      ]
    },
    {
      "cell_type": "code",
      "metadata": {
        "id": "EaHBFg_K2nGF"
      },
      "source": [
        "#take only required columns\n",
        "df2 = df[,c(3,4)]\n",
        "\n",
        "# head(df2)"
      ],
      "execution_count": 7,
      "outputs": []
    },
    {
      "cell_type": "code",
      "metadata": {
        "colab": {
          "base_uri": "https://localhost:8080/",
          "height": 160
        },
        "id": "GRs4YAhP2xbL",
        "outputId": "e983ec7e-87a5-4dd8-d67d-e264dd333872"
      },
      "source": [
        "#distribution of decision\n",
        "df2 %>% count(decision)"
      ],
      "execution_count": 8,
      "outputs": [
        {
          "output_type": "display_data",
          "data": {
            "text/plain": [
              "  decision n   \n",
              "1 Proceed   189\n",
              "2 Turndown 4010"
            ],
            "text/latex": "A tibble: 2 × 2\n\\begin{tabular}{ll}\n decision & n\\\\\n <chr> & <int>\\\\\n\\hline\n\t Proceed  &  189\\\\\n\t Turndown & 4010\\\\\n\\end{tabular}\n",
            "text/markdown": "\nA tibble: 2 × 2\n\n| decision &lt;chr&gt; | n &lt;int&gt; |\n|---|---|\n| Proceed  |  189 |\n| Turndown | 4010 |\n\n",
            "text/html": [
              "<table class=\"dataframe\">\n",
              "<caption>A tibble: 2 × 2</caption>\n",
              "<thead>\n",
              "\t<tr><th scope=col>decision</th><th scope=col>n</th></tr>\n",
              "\t<tr><th scope=col>&lt;chr&gt;</th><th scope=col>&lt;int&gt;</th></tr>\n",
              "</thead>\n",
              "<tbody>\n",
              "\t<tr><td>Proceed </td><td> 189</td></tr>\n",
              "\t<tr><td>Turndown</td><td>4010</td></tr>\n",
              "</tbody>\n",
              "</table>\n"
            ]
          },
          "metadata": {
            "tags": []
          }
        }
      ]
    },
    {
      "cell_type": "code",
      "metadata": {
        "colab": {
          "base_uri": "https://localhost:8080/",
          "height": 90
        },
        "id": "g5ZiIxpzgr57",
        "outputId": "aca6890d-6ba1-4ae6-d850-c8e076dd52f8"
      },
      "source": [
        "#find out what is the distribution of the number of words when decision is Proceed\n",
        "df2[df2$decision == 'Proceed',]$narrative %>%\n",
        "  strsplit(\" \") %>%\n",
        "  sapply(length) %>% \n",
        "  summary()\n",
        "\n",
        "  #find out what is the distribution of the number of words when decision is Turndown\n",
        "df2[df2$decision == 'Turndown',]$narrative %>%\n",
        "  strsplit(\" \") %>%\n",
        "  sapply(length) %>% \n",
        "  summary()"
      ],
      "execution_count": 19,
      "outputs": [
        {
          "output_type": "display_data",
          "data": {
            "text/plain": [
              "   Min. 1st Qu.  Median    Mean 3rd Qu.    Max. \n",
              "    240    1028    1075    1033    1101    1219 "
            ]
          },
          "metadata": {
            "tags": []
          }
        },
        {
          "output_type": "display_data",
          "data": {
            "text/plain": [
              "   Min. 1st Qu.  Median    Mean 3rd Qu.    Max. \n",
              "   46.0   933.0  1056.0   963.4  1103.0  1455.0 "
            ]
          },
          "metadata": {
            "tags": []
          }
        }
      ]
    },
    {
      "cell_type": "code",
      "metadata": {
        "id": "Jh2hqLGl1bp4"
      },
      "source": [
        "post = Corpus(VectorSource(df2$narrative)) # creating corpus"
      ],
      "execution_count": 9,
      "outputs": []
    },
    {
      "cell_type": "code",
      "metadata": {
        "colab": {
          "base_uri": "https://localhost:8080/"
        },
        "id": "_wSqQHli1lDm",
        "outputId": "7b99f115-5d91-4c89-ed8f-5ff2864bfdc3"
      },
      "source": [
        "post = tm_map(post, removeNumbers) #removing numbers from narratives"
      ],
      "execution_count": 10,
      "outputs": [
        {
          "output_type": "stream",
          "text": [
            "Warning message in tm_map.SimpleCorpus(post, removeNumbers):\n",
            "“transformation drops documents”\n"
          ],
          "name": "stderr"
        }
      ]
    },
    {
      "cell_type": "code",
      "metadata": {
        "colab": {
          "base_uri": "https://localhost:8080/"
        },
        "id": "DLbYJLZS1lIW",
        "outputId": "57258659-e612-4e31-bd61-db7be74f121d"
      },
      "source": [
        "post = tm_map(post, removePunctuation) #removing punctuations from narratives"
      ],
      "execution_count": 11,
      "outputs": [
        {
          "output_type": "stream",
          "text": [
            "Warning message in tm_map.SimpleCorpus(post, removePunctuation):\n",
            "“transformation drops documents”\n"
          ],
          "name": "stderr"
        }
      ]
    },
    {
      "cell_type": "code",
      "metadata": {
        "colab": {
          "base_uri": "https://localhost:8080/"
        },
        "id": "mhsvrYaD1lPR",
        "outputId": "f354b6b2-e471-492c-ec53-0d32894542fa"
      },
      "source": [
        "post = tm_map(post, stripWhitespace) #removing unnecessary whitespaces from narratives"
      ],
      "execution_count": 12,
      "outputs": [
        {
          "output_type": "stream",
          "text": [
            "Warning message in tm_map.SimpleCorpus(post, stripWhitespace):\n",
            "“transformation drops documents”\n"
          ],
          "name": "stderr"
        }
      ]
    },
    {
      "cell_type": "code",
      "metadata": {
        "colab": {
          "base_uri": "https://localhost:8080/"
        },
        "id": "i9ZxINV112au",
        "outputId": "cbcd0064-5edd-4772-929f-b58bd0080e84"
      },
      "source": [
        "post <- tm_map(post,content_transformer(tolower)) #lowercasing text"
      ],
      "execution_count": 13,
      "outputs": [
        {
          "output_type": "stream",
          "text": [
            "Warning message in tm_map.SimpleCorpus(post, content_transformer(tolower)):\n",
            "“transformation drops documents”\n"
          ],
          "name": "stderr"
        }
      ]
    },
    {
      "cell_type": "code",
      "metadata": {
        "colab": {
          "base_uri": "https://localhost:8080/"
        },
        "id": "PLAOjqZj12gG",
        "outputId": "e7882dd9-70a0-490f-ac99-a8d2654f719c"
      },
      "source": [
        "post <- tm_map(post, removeWords, stopwords(\"english\")) #removing frequently occuring words like - the,it,is"
      ],
      "execution_count": 14,
      "outputs": [
        {
          "output_type": "stream",
          "text": [
            "Warning message in tm_map.SimpleCorpus(post, removeWords, stopwords(\"english\")):\n",
            "“transformation drops documents”\n"
          ],
          "name": "stderr"
        }
      ]
    },
    {
      "cell_type": "code",
      "metadata": {
        "colab": {
          "base_uri": "https://localhost:8080/"
        },
        "id": "BGymo-GAjPzv",
        "outputId": "766e0756-e0a4-4754-f88f-5e04587413ef"
      },
      "source": [
        "post <- tm_map(post,stemDocument) #normaling words into its root form using stemming technique"
      ],
      "execution_count": 15,
      "outputs": [
        {
          "output_type": "stream",
          "text": [
            "Warning message in tm_map.SimpleCorpus(post, stemDocument):\n",
            "“transformation drops documents”\n"
          ],
          "name": "stderr"
        }
      ]
    },
    {
      "cell_type": "code",
      "metadata": {
        "id": "DlswP4YaXcMR"
      },
      "source": [
        "#convert the corpus into dataframe\n",
        "post_df = data.frame(text = sapply(post, as.character), stringsAsFactors = FALSE)"
      ],
      "execution_count": 20,
      "outputs": []
    },
    {
      "cell_type": "code",
      "metadata": {
        "id": "S8ek9dhmXcXs"
      },
      "source": [
        "#add target column i.e. decision column\n",
        "post_df$decision = df2$decision"
      ],
      "execution_count": 21,
      "outputs": []
    },
    {
      "cell_type": "code",
      "metadata": {
        "colab": {
          "base_uri": "https://localhost:8080/",
          "height": 1000
        },
        "id": "c8Pf1eO2Ylm1",
        "outputId": "dba4d11c-97a6-4e05-c386-d823c2d1ee86"
      },
      "source": [
        "# check few rows after series of transformation done above\n",
        "head(post_df,2)"
      ],
      "execution_count": null,
      "outputs": [
        {
          "output_type": "display_data",
          "data": {
            "text/plain": [
              "  text                                                                                                                                                                                                                                                                                                                                                                                                                                                                                                                                                                                                                                                                                                                                                                                                                                                                                                                                                                                                                                                                                                                                                                                                                                                                                                                                                                                                                                                                                                                                                                                                                                                                                                                                                                                                                                                                                                                                                                                                                                                                                                                                                                                                                                                                                                                                                                                                                                                                                                                                                                                                                                                                                                                                                                                                                                                                                                                                                                                                                                                                                                                                                                                                                                                                                                                                                                                                                                                                                                                                                                                                                                                                                                                                                                                                                                                                                                                                                                                                                                                                                                                                                                                                                                                                                                                                                                                                                                                                                                                                                                                                                                                                                                                                                                                                                                                                                                                                                                                                          \n",
              "1 innovationdo patientcent approach prepar discharg postdischarg support reduc hospit readmiss patient recov traumat brain spinal cord injuri partner patientfamili stakehold develop test sever innov aim improv selfefficaci care manag includ revamp patient famili educ program emphas transform learn employ innov instruct strategi blend onlin classroom learn flip classroom model implement peer mentor program includ peer led selfmanag train deploy patient famili web portal provid ongo access inform support success transit homethes approach offer innov altern convent practic empow patient exercis greater choic control care need moreov encourag consum engag peer communiti interest ndash liter virtual via internet ndash will immedi conveni access potenti relev inform guidanc support may avail local communiti effect decisionmak patient care need signific enhancedw seek fund rwj pioneer program evalu impact practic chang propos research will test hypothesi improv self efficaci lead greater compet effect decisionmak patient care manag turn reduc unintend healthcar util er visit readmiss improv patient healthrel qualiti life effect patientfamili center approach readili transport care set serv patient popul approach may also sustain exist practic promot greater patient famili selfreli support peer versus relianc upon healthcar systemcontextshepherd center ndash specialti rehabilit hospit ndash admit patient annual sever traumat brain spinal cord injuri patient intens care need mani ventil depend minim conscious complex medic comorbid admiss patient discharg home ongo support need can usual address famili friend other return home complex often lifethreaten care need almost face lifetim risk develop secondari condit pressur ulcer urinari tract infect respiratori problem pain depressiondespit challeng shepherd excel record exemplari outcom dischargetohom rate year averag far exceed severityadjust benchmark averag readmiss first day also remain well nation averag patient similar complex success due part detail support provid patient famili postdischarg includ use telehealth internetbas care instruct guidanc dedic communiti reentri specialist effort larg donorfund sustain replic provid current healthcar reimburs practicesactivitiesthre workgroup staff former patient famili caregiv outsid content expert form design build three practic chang note aboveon group revamp patient famili educ program includ follow task identifi key compet learn object patient famili educ program establish mechan assess priorit patientfamili learn need custom instruct address need develop discret instruct modul chunk content brief instruct session incorpor revers classroom blend learn strategi combin onlin facetofac instruct optim learn incorpor element peerl self manag train program pilot test refin instruct program base feedback participantsa second group develop peer mentor program program featur includ procedur recruit train coordin peer mentor system match patient famili member potenti peer similar background interest injuri characterist regular schedul support group peer network opportun explor use social media eg facebook onlin forum yahoo group peer support build link peer support group communiti patient dischargeda third group develop refin exist onlin resourc patient famili new patient portal will includ addit featur content includ social media capabl portal will avail patient famili inpati stay inpati stay web portal will use custom discharg plan communic staff prepar communic home care instruct communic friend famili back home access complet onlin educ modul particip peerl discuss group forum discharg portal will continu serv communic link shepherd staff peer access inform educ content particip peer support activitieseffectivenessthre studi propos evalu impact refin discharg support studi will compar revis patient famili educ program exist educ program random control trial rct primari outcom prepost improv acquisit key knowledg skill convey educ program prepost improv perceiv selfefficaci studi second rct examin effect particip peer mentor program tradit peersupport opportun primari outcom interest prepost improv perceiv selfefficaci secondarili studi will examin differ satisfact care healthcar util outcom relat communiti particip satisfact life psycholog wellbeingin studi interrupt time seri design will use evalu individu cumul effect three intervent compon introduc system wide will use data point month collect outcom interest discharg patient day postdischarg analysi will base piecewis regress compar differ segment time seri start point segment defin introduct intervent compon secondari analys will examin influenc varieti patient eg age ethnic comorbid demograph eg socioeconom status famili composit ecolog eg resourc avail discharg communiti factor outcom\n",
              "2 submit follow propos consider look forward review opinionyour innov will lead breakthrough health health careb chang patient safeti relationship cultur chang btc will creat cultur safeti cos texa hospit develop multidisciplinari partnership creat transform leadership improv patient care outcom reduc cost profession work life satisfactionth literatur issu patient safeti chang evolv health care system indic reimburs system undergo extens revis afford care act aca real need chang must take place within health care institut profession institutionsmcfadden confirm patient safeti must begin transform leadership highest level organ vogelsmei found improv patient outcom close tie percept frontlin staff percept differ leader close percept gap must happen move toward true cos collabor leadership frontlin staff adapt transpar relationshipcent model necessari patient safeti suchman wheatley principl report institut medicin iom keep patient safe futur nurs provid foundat btcthe problem issu innov addressesbtc will chang health care facil environ transact top leadership silo shame blame educ coach will replac tradit respons transform multiprofession leadership will promot patient safeti improv outcom effici health care deliverywhi organ qualifi take projecta princip investig regist nurs rn extens experi nurs health care system regul complianc earn msn phd health care administr commit support profession collabor facilit need chang health care system lead origin evolut btc draw broad experi interprofession leadership promot patient safeti chang individu systemsth grant recipi texa nurs foundat fund sought texa nurs foundat tnf collabor texa nurs associ tna texa team initi manag btc project tna rns profession organ texa tna c corpor famili corpor tnf c nurs aid compet evalu servic plus corpor c asset million combin annual oper budget three corpor leadership interim execut director ellaren dui sander phd rn neabc tnftna area expertis relat projecttnftna serv project manag state nation fund grant qualifi serv partner manag btctnftna leader advoc interdisciplinari collabor posit impact health care system participatori managementtexa team advanc health nurs partner btc project particip robert wood johnson foundat rwjf campaign action implement iom futur nurs goal texa btc project reflect goal rwjf campaign actiondescrib project brieflybtc will provid texa hospit coach team compris rns physician health care administr coach team will meet twice year hospit champion team includ board member senior leader physician direct care nurs hospit board staff medic staff will complet survey annual three year assess perceiv transform leadership cos track transit transform leadership improv patient safeti outcom measuresproject teamseach btc coach team will promot guidanc champion team survey assess activ particip champion team educ question simul systemat plan analysi chang data core measur key indic celebr success evid changeth btc research team will select reliabl valid instrument well analyz specif core measur data assess baselin percept transform leadership cos well profession satisfact data will analyz track time determin factor promot hinder cos andor practic chang relat project goal research result will drive initi promot effect transform leadership cos patient safeti efficienciesfellowshipsbtc will train aspir leader fellow will collabor analysi data implement evalu educ materi coach process particip two champion team train session btc fellowship will serv foundat futur leader health caretimelinefour month need project research team recruit facil coach final curriculum establish survey system three year need experi chang btc process sever month need final result projectyour definit success project year period texa hospit will experi posit chang cultur reflect improv patient safeti outcom reduc cost improv work satisfact innov evidencebas educ coach process btc project will replic facil promot organiz chang forti promis healthcar profession will empow replic btc process leadership role practicesyour vision project might chang health health care futurethi btc model will valid blueprint implement transform leadership respons chang organiz health care system needspotenti next step might follow complet propos projectth btc program replic extend hospit well health care facil draw expertis particip btcpropos budgetstart date septemb durat year month monthsend date may project total personnel direct cost purchas servic indirect cost total                                                                                                                                                                                                                                                                                                                                       \n",
              "  decision\n",
              "1 Turndown\n",
              "2 Turndown"
            ],
            "text/latex": "A data.frame: 2 × 2\n\\begin{tabular}{r|ll}\n  & text & decision\\\\\n  & <chr> & <chr>\\\\\n\\hline\n\t1 & innovationdo patientcent approach prepar discharg postdischarg support reduc hospit readmiss patient recov traumat brain spinal cord injuri partner patientfamili stakehold develop test sever innov aim improv selfefficaci care manag includ revamp patient famili educ program emphas transform learn employ innov instruct strategi blend onlin classroom learn flip classroom model implement peer mentor program includ peer led selfmanag train deploy patient famili web portal provid ongo access inform support success transit homethes approach offer innov altern convent practic empow patient exercis greater choic control care need moreov encourag consum engag peer communiti interest ndash liter virtual via internet ndash will immedi conveni access potenti relev inform guidanc support may avail local communiti effect decisionmak patient care need signific enhancedw seek fund rwj pioneer program evalu impact practic chang propos research will test hypothesi improv self efficaci lead greater compet effect decisionmak patient care manag turn reduc unintend healthcar util er visit readmiss improv patient healthrel qualiti life effect patientfamili center approach readili transport care set serv patient popul approach may also sustain exist practic promot greater patient famili selfreli support peer versus relianc upon healthcar systemcontextshepherd center ndash specialti rehabilit hospit ndash admit patient annual sever traumat brain spinal cord injuri patient intens care need mani ventil depend minim conscious complex medic comorbid admiss patient discharg home ongo support need can usual address famili friend other return home complex often lifethreaten care need almost face lifetim risk develop secondari condit pressur ulcer urinari tract infect respiratori problem pain depressiondespit challeng shepherd excel record exemplari outcom dischargetohom rate year averag far exceed severityadjust benchmark averag readmiss first day also remain well nation averag patient similar complex success due part detail support provid patient famili postdischarg includ use telehealth internetbas care instruct guidanc dedic communiti reentri specialist effort larg donorfund sustain replic provid current healthcar reimburs practicesactivitiesthre workgroup staff former patient famili caregiv outsid content expert form design build three practic chang note aboveon group revamp patient famili educ program includ follow task identifi key compet learn object patient famili educ program establish mechan assess priorit patientfamili learn need custom instruct address need develop discret instruct modul chunk content brief instruct session incorpor revers classroom blend learn strategi combin onlin facetofac instruct optim learn incorpor element peerl self manag train program pilot test refin instruct program base feedback participantsa second group develop peer mentor program program featur includ procedur recruit train coordin peer mentor system match patient famili member potenti peer similar background interest injuri characterist regular schedul support group peer network opportun explor use social media eg facebook onlin forum yahoo group peer support build link peer support group communiti patient dischargeda third group develop refin exist onlin resourc patient famili new patient portal will includ addit featur content includ social media capabl portal will avail patient famili inpati stay inpati stay web portal will use custom discharg plan communic staff prepar communic home care instruct communic friend famili back home access complet onlin educ modul particip peerl discuss group forum discharg portal will continu serv communic link shepherd staff peer access inform educ content particip peer support activitieseffectivenessthre studi propos evalu impact refin discharg support studi will compar revis patient famili educ program exist educ program random control trial rct primari outcom prepost improv acquisit key knowledg skill convey educ program prepost improv perceiv selfefficaci studi second rct examin effect particip peer mentor program tradit peersupport opportun primari outcom interest prepost improv perceiv selfefficaci secondarili studi will examin differ satisfact care healthcar util outcom relat communiti particip satisfact life psycholog wellbeingin studi interrupt time seri design will use evalu individu cumul effect three intervent compon introduc system wide will use data point month collect outcom interest discharg patient day postdischarg analysi will base piecewis regress compar differ segment time seri start point segment defin introduct intervent compon secondari analys will examin influenc varieti patient eg age ethnic comorbid demograph eg socioeconom status famili composit ecolog eg resourc avail discharg communiti factor outcom & Turndown\\\\\n\t2 & submit follow propos consider look forward review opinionyour innov will lead breakthrough health health careb chang patient safeti relationship cultur chang btc will creat cultur safeti cos texa hospit develop multidisciplinari partnership creat transform leadership improv patient care outcom reduc cost profession work life satisfactionth literatur issu patient safeti chang evolv health care system indic reimburs system undergo extens revis afford care act aca real need chang must take place within health care institut profession institutionsmcfadden confirm patient safeti must begin transform leadership highest level organ vogelsmei found improv patient outcom close tie percept frontlin staff percept differ leader close percept gap must happen move toward true cos collabor leadership frontlin staff adapt transpar relationshipcent model necessari patient safeti suchman wheatley principl report institut medicin iom keep patient safe futur nurs provid foundat btcthe problem issu innov addressesbtc will chang health care facil environ transact top leadership silo shame blame educ coach will replac tradit respons transform multiprofession leadership will promot patient safeti improv outcom effici health care deliverywhi organ qualifi take projecta princip investig regist nurs rn extens experi nurs health care system regul complianc earn msn phd health care administr commit support profession collabor facilit need chang health care system lead origin evolut btc draw broad experi interprofession leadership promot patient safeti chang individu systemsth grant recipi texa nurs foundat fund sought texa nurs foundat tnf collabor texa nurs associ tna texa team initi manag btc project tna rns profession organ texa tna c corpor famili corpor tnf c nurs aid compet evalu servic plus corpor c asset million combin annual oper budget three corpor leadership interim execut director ellaren dui sander phd rn neabc tnftna area expertis relat projecttnftna serv project manag state nation fund grant qualifi serv partner manag btctnftna leader advoc interdisciplinari collabor posit impact health care system participatori managementtexa team advanc health nurs partner btc project particip robert wood johnson foundat rwjf campaign action implement iom futur nurs goal texa btc project reflect goal rwjf campaign actiondescrib project brieflybtc will provid texa hospit coach team compris rns physician health care administr coach team will meet twice year hospit champion team includ board member senior leader physician direct care nurs hospit board staff medic staff will complet survey annual three year assess perceiv transform leadership cos track transit transform leadership improv patient safeti outcom measuresproject teamseach btc coach team will promot guidanc champion team survey assess activ particip champion team educ question simul systemat plan analysi chang data core measur key indic celebr success evid changeth btc research team will select reliabl valid instrument well analyz specif core measur data assess baselin percept transform leadership cos well profession satisfact data will analyz track time determin factor promot hinder cos andor practic chang relat project goal research result will drive initi promot effect transform leadership cos patient safeti efficienciesfellowshipsbtc will train aspir leader fellow will collabor analysi data implement evalu educ materi coach process particip two champion team train session btc fellowship will serv foundat futur leader health caretimelinefour month need project research team recruit facil coach final curriculum establish survey system three year need experi chang btc process sever month need final result projectyour definit success project year period texa hospit will experi posit chang cultur reflect improv patient safeti outcom reduc cost improv work satisfact innov evidencebas educ coach process btc project will replic facil promot organiz chang forti promis healthcar profession will empow replic btc process leadership role practicesyour vision project might chang health health care futurethi btc model will valid blueprint implement transform leadership respons chang organiz health care system needspotenti next step might follow complet propos projectth btc program replic extend hospit well health care facil draw expertis particip btcpropos budgetstart date septemb durat year month monthsend date may project total personnel direct cost purchas servic indirect cost total                                                                                                                                                                                                                                                                                                                                        & Turndown\\\\\n\\end{tabular}\n",
            "text/markdown": "\nA data.frame: 2 × 2\n\n| <!--/--> | text &lt;chr&gt; | decision &lt;chr&gt; |\n|---|---|---|\n| 1 | innovationdo patientcent approach prepar discharg postdischarg support reduc hospit readmiss patient recov traumat brain spinal cord injuri partner patientfamili stakehold develop test sever innov aim improv selfefficaci care manag includ revamp patient famili educ program emphas transform learn employ innov instruct strategi blend onlin classroom learn flip classroom model implement peer mentor program includ peer led selfmanag train deploy patient famili web portal provid ongo access inform support success transit homethes approach offer innov altern convent practic empow patient exercis greater choic control care need moreov encourag consum engag peer communiti interest ndash liter virtual via internet ndash will immedi conveni access potenti relev inform guidanc support may avail local communiti effect decisionmak patient care need signific enhancedw seek fund rwj pioneer program evalu impact practic chang propos research will test hypothesi improv self efficaci lead greater compet effect decisionmak patient care manag turn reduc unintend healthcar util er visit readmiss improv patient healthrel qualiti life effect patientfamili center approach readili transport care set serv patient popul approach may also sustain exist practic promot greater patient famili selfreli support peer versus relianc upon healthcar systemcontextshepherd center ndash specialti rehabilit hospit ndash admit patient annual sever traumat brain spinal cord injuri patient intens care need mani ventil depend minim conscious complex medic comorbid admiss patient discharg home ongo support need can usual address famili friend other return home complex often lifethreaten care need almost face lifetim risk develop secondari condit pressur ulcer urinari tract infect respiratori problem pain depressiondespit challeng shepherd excel record exemplari outcom dischargetohom rate year averag far exceed severityadjust benchmark averag readmiss first day also remain well nation averag patient similar complex success due part detail support provid patient famili postdischarg includ use telehealth internetbas care instruct guidanc dedic communiti reentri specialist effort larg donorfund sustain replic provid current healthcar reimburs practicesactivitiesthre workgroup staff former patient famili caregiv outsid content expert form design build three practic chang note aboveon group revamp patient famili educ program includ follow task identifi key compet learn object patient famili educ program establish mechan assess priorit patientfamili learn need custom instruct address need develop discret instruct modul chunk content brief instruct session incorpor revers classroom blend learn strategi combin onlin facetofac instruct optim learn incorpor element peerl self manag train program pilot test refin instruct program base feedback participantsa second group develop peer mentor program program featur includ procedur recruit train coordin peer mentor system match patient famili member potenti peer similar background interest injuri characterist regular schedul support group peer network opportun explor use social media eg facebook onlin forum yahoo group peer support build link peer support group communiti patient dischargeda third group develop refin exist onlin resourc patient famili new patient portal will includ addit featur content includ social media capabl portal will avail patient famili inpati stay inpati stay web portal will use custom discharg plan communic staff prepar communic home care instruct communic friend famili back home access complet onlin educ modul particip peerl discuss group forum discharg portal will continu serv communic link shepherd staff peer access inform educ content particip peer support activitieseffectivenessthre studi propos evalu impact refin discharg support studi will compar revis patient famili educ program exist educ program random control trial rct primari outcom prepost improv acquisit key knowledg skill convey educ program prepost improv perceiv selfefficaci studi second rct examin effect particip peer mentor program tradit peersupport opportun primari outcom interest prepost improv perceiv selfefficaci secondarili studi will examin differ satisfact care healthcar util outcom relat communiti particip satisfact life psycholog wellbeingin studi interrupt time seri design will use evalu individu cumul effect three intervent compon introduc system wide will use data point month collect outcom interest discharg patient day postdischarg analysi will base piecewis regress compar differ segment time seri start point segment defin introduct intervent compon secondari analys will examin influenc varieti patient eg age ethnic comorbid demograph eg socioeconom status famili composit ecolog eg resourc avail discharg communiti factor outcom | Turndown |\n| 2 | submit follow propos consider look forward review opinionyour innov will lead breakthrough health health careb chang patient safeti relationship cultur chang btc will creat cultur safeti cos texa hospit develop multidisciplinari partnership creat transform leadership improv patient care outcom reduc cost profession work life satisfactionth literatur issu patient safeti chang evolv health care system indic reimburs system undergo extens revis afford care act aca real need chang must take place within health care institut profession institutionsmcfadden confirm patient safeti must begin transform leadership highest level organ vogelsmei found improv patient outcom close tie percept frontlin staff percept differ leader close percept gap must happen move toward true cos collabor leadership frontlin staff adapt transpar relationshipcent model necessari patient safeti suchman wheatley principl report institut medicin iom keep patient safe futur nurs provid foundat btcthe problem issu innov addressesbtc will chang health care facil environ transact top leadership silo shame blame educ coach will replac tradit respons transform multiprofession leadership will promot patient safeti improv outcom effici health care deliverywhi organ qualifi take projecta princip investig regist nurs rn extens experi nurs health care system regul complianc earn msn phd health care administr commit support profession collabor facilit need chang health care system lead origin evolut btc draw broad experi interprofession leadership promot patient safeti chang individu systemsth grant recipi texa nurs foundat fund sought texa nurs foundat tnf collabor texa nurs associ tna texa team initi manag btc project tna rns profession organ texa tna c corpor famili corpor tnf c nurs aid compet evalu servic plus corpor c asset million combin annual oper budget three corpor leadership interim execut director ellaren dui sander phd rn neabc tnftna area expertis relat projecttnftna serv project manag state nation fund grant qualifi serv partner manag btctnftna leader advoc interdisciplinari collabor posit impact health care system participatori managementtexa team advanc health nurs partner btc project particip robert wood johnson foundat rwjf campaign action implement iom futur nurs goal texa btc project reflect goal rwjf campaign actiondescrib project brieflybtc will provid texa hospit coach team compris rns physician health care administr coach team will meet twice year hospit champion team includ board member senior leader physician direct care nurs hospit board staff medic staff will complet survey annual three year assess perceiv transform leadership cos track transit transform leadership improv patient safeti outcom measuresproject teamseach btc coach team will promot guidanc champion team survey assess activ particip champion team educ question simul systemat plan analysi chang data core measur key indic celebr success evid changeth btc research team will select reliabl valid instrument well analyz specif core measur data assess baselin percept transform leadership cos well profession satisfact data will analyz track time determin factor promot hinder cos andor practic chang relat project goal research result will drive initi promot effect transform leadership cos patient safeti efficienciesfellowshipsbtc will train aspir leader fellow will collabor analysi data implement evalu educ materi coach process particip two champion team train session btc fellowship will serv foundat futur leader health caretimelinefour month need project research team recruit facil coach final curriculum establish survey system three year need experi chang btc process sever month need final result projectyour definit success project year period texa hospit will experi posit chang cultur reflect improv patient safeti outcom reduc cost improv work satisfact innov evidencebas educ coach process btc project will replic facil promot organiz chang forti promis healthcar profession will empow replic btc process leadership role practicesyour vision project might chang health health care futurethi btc model will valid blueprint implement transform leadership respons chang organiz health care system needspotenti next step might follow complet propos projectth btc program replic extend hospit well health care facil draw expertis particip btcpropos budgetstart date septemb durat year month monthsend date may project total personnel direct cost purchas servic indirect cost total                                                                                                                                                                                                                                                                                                                                        | Turndown |\n\n",
            "text/html": [
              "<table class=\"dataframe\">\n",
              "<caption>A data.frame: 2 × 2</caption>\n",
              "<thead>\n",
              "\t<tr><th></th><th scope=col>text</th><th scope=col>decision</th></tr>\n",
              "\t<tr><th></th><th scope=col>&lt;chr&gt;</th><th scope=col>&lt;chr&gt;</th></tr>\n",
              "</thead>\n",
              "<tbody>\n",
              "\t<tr><th scope=row>1</th><td>innovationdo patientcent approach prepar discharg postdischarg support reduc hospit readmiss patient recov traumat brain spinal cord injuri partner patientfamili stakehold develop test sever innov aim improv selfefficaci care manag includ revamp patient famili educ program emphas transform learn employ innov instruct strategi blend onlin classroom learn flip classroom model implement peer mentor program includ peer led selfmanag train deploy patient famili web portal provid ongo access inform support success transit homethes approach offer innov altern convent practic empow patient exercis greater choic control care need moreov encourag consum engag peer communiti interest ndash liter virtual via internet ndash will immedi conveni access potenti relev inform guidanc support may avail local communiti effect decisionmak patient care need signific enhancedw seek fund rwj pioneer program evalu impact practic chang propos research will test hypothesi improv self efficaci lead greater compet effect decisionmak patient care manag turn reduc unintend healthcar util er visit readmiss improv patient healthrel qualiti life effect patientfamili center approach readili transport care set serv patient popul approach may also sustain exist practic promot greater patient famili selfreli support peer versus relianc upon healthcar systemcontextshepherd center ndash specialti rehabilit hospit ndash admit patient annual sever traumat brain spinal cord injuri patient intens care need mani ventil depend minim conscious complex medic comorbid admiss patient discharg home ongo support need can usual address famili friend other return home complex often lifethreaten care need almost face lifetim risk develop secondari condit pressur ulcer urinari tract infect respiratori problem pain depressiondespit challeng shepherd excel record exemplari outcom dischargetohom rate year averag far exceed severityadjust benchmark averag readmiss first day also remain well nation averag patient similar complex success due part detail support provid patient famili postdischarg includ use telehealth internetbas care instruct guidanc dedic communiti reentri specialist effort larg donorfund sustain replic provid current healthcar reimburs practicesactivitiesthre workgroup staff former patient famili caregiv outsid content expert form design build three practic chang note aboveon group revamp patient famili educ program includ follow task identifi key compet learn object patient famili educ program establish mechan assess priorit patientfamili learn need custom instruct address need develop discret instruct modul chunk content brief instruct session incorpor revers classroom blend learn strategi combin onlin facetofac instruct optim learn incorpor element peerl self manag train program pilot test refin instruct program base feedback participantsa second group develop peer mentor program program featur includ procedur recruit train coordin peer mentor system match patient famili member potenti peer similar background interest injuri characterist regular schedul support group peer network opportun explor use social media eg facebook onlin forum yahoo group peer support build link peer support group communiti patient dischargeda third group develop refin exist onlin resourc patient famili new patient portal will includ addit featur content includ social media capabl portal will avail patient famili inpati stay inpati stay web portal will use custom discharg plan communic staff prepar communic home care instruct communic friend famili back home access complet onlin educ modul particip peerl discuss group forum discharg portal will continu serv communic link shepherd staff peer access inform educ content particip peer support activitieseffectivenessthre studi propos evalu impact refin discharg support studi will compar revis patient famili educ program exist educ program random control trial rct primari outcom prepost improv acquisit key knowledg skill convey educ program prepost improv perceiv selfefficaci studi second rct examin effect particip peer mentor program tradit peersupport opportun primari outcom interest prepost improv perceiv selfefficaci secondarili studi will examin differ satisfact care healthcar util outcom relat communiti particip satisfact life psycholog wellbeingin studi interrupt time seri design will use evalu individu cumul effect three intervent compon introduc system wide will use data point month collect outcom interest discharg patient day postdischarg analysi will base piecewis regress compar differ segment time seri start point segment defin introduct intervent compon secondari analys will examin influenc varieti patient eg age ethnic comorbid demograph eg socioeconom status famili composit ecolog eg resourc avail discharg communiti factor outcom</td><td>Turndown</td></tr>\n",
              "\t<tr><th scope=row>2</th><td>submit follow propos consider look forward review opinionyour innov will lead breakthrough health health careb chang patient safeti relationship cultur chang btc will creat cultur safeti cos texa hospit develop multidisciplinari partnership creat transform leadership improv patient care outcom reduc cost profession work life satisfactionth literatur issu patient safeti chang evolv health care system indic reimburs system undergo extens revis afford care act aca real need chang must take place within health care institut profession institutionsmcfadden confirm patient safeti must begin transform leadership highest level organ vogelsmei found improv patient outcom close tie percept frontlin staff percept differ leader close percept gap must happen move toward true cos collabor leadership frontlin staff adapt transpar relationshipcent model necessari patient safeti suchman wheatley principl report institut medicin iom keep patient safe futur nurs provid foundat btcthe problem issu innov addressesbtc will chang health care facil environ transact top leadership silo shame blame educ coach will replac tradit respons transform multiprofession leadership will promot patient safeti improv outcom effici health care deliverywhi organ qualifi take projecta princip investig regist nurs rn extens experi nurs health care system regul complianc earn msn phd health care administr commit support profession collabor facilit need chang health care system lead origin evolut btc draw broad experi interprofession leadership promot patient safeti chang individu systemsth grant recipi texa nurs foundat fund sought texa nurs foundat tnf collabor texa nurs associ tna texa team initi manag btc project tna rns profession organ texa tna c corpor famili corpor tnf c nurs aid compet evalu servic plus corpor c asset million combin annual oper budget three corpor leadership interim execut director ellaren dui sander phd rn neabc tnftna area expertis relat projecttnftna serv project manag state nation fund grant qualifi serv partner manag btctnftna leader advoc interdisciplinari collabor posit impact health care system participatori managementtexa team advanc health nurs partner btc project particip robert wood johnson foundat rwjf campaign action implement iom futur nurs goal texa btc project reflect goal rwjf campaign actiondescrib project brieflybtc will provid texa hospit coach team compris rns physician health care administr coach team will meet twice year hospit champion team includ board member senior leader physician direct care nurs hospit board staff medic staff will complet survey annual three year assess perceiv transform leadership cos track transit transform leadership improv patient safeti outcom measuresproject teamseach btc coach team will promot guidanc champion team survey assess activ particip champion team educ question simul systemat plan analysi chang data core measur key indic celebr success evid changeth btc research team will select reliabl valid instrument well analyz specif core measur data assess baselin percept transform leadership cos well profession satisfact data will analyz track time determin factor promot hinder cos andor practic chang relat project goal research result will drive initi promot effect transform leadership cos patient safeti efficienciesfellowshipsbtc will train aspir leader fellow will collabor analysi data implement evalu educ materi coach process particip two champion team train session btc fellowship will serv foundat futur leader health caretimelinefour month need project research team recruit facil coach final curriculum establish survey system three year need experi chang btc process sever month need final result projectyour definit success project year period texa hospit will experi posit chang cultur reflect improv patient safeti outcom reduc cost improv work satisfact innov evidencebas educ coach process btc project will replic facil promot organiz chang forti promis healthcar profession will empow replic btc process leadership role practicesyour vision project might chang health health care futurethi btc model will valid blueprint implement transform leadership respons chang organiz health care system needspotenti next step might follow complet propos projectth btc program replic extend hospit well health care facil draw expertis particip btcpropos budgetstart date septemb durat year month monthsend date may project total personnel direct cost purchas servic indirect cost total                                                                                                                                                                                                                                                                                                                                       </td><td>Turndown</td></tr>\n",
              "</tbody>\n",
              "</table>\n"
            ]
          },
          "metadata": {
            "tags": []
          }
        }
      ]
    },
    {
      "cell_type": "markdown",
      "metadata": {
        "id": "dJpebGQtDRgk"
      },
      "source": [
        "Approach 1: Using Neural Network"
      ]
    },
    {
      "cell_type": "code",
      "metadata": {
        "id": "gbsgWPhY2z_x"
      },
      "source": [
        "#train test split\n",
        "set.seed(123)\n",
        "train.index <- createDataPartition(post_df$decision, p = .75, list = FALSE)\n",
        "train <- post_df[ train.index,]\n",
        "test  <- post_df[-train.index,]"
      ],
      "execution_count": 23,
      "outputs": []
    },
    {
      "cell_type": "code",
      "metadata": {
        "colab": {
          "base_uri": "https://localhost:8080/",
          "height": 54
        },
        "id": "GO_9T_C-247r",
        "outputId": "c73dbc05-1376-445f-f4cf-3d9c4d54b870"
      },
      "source": [
        "#find out what is the distribution of the number of words in each review\n",
        "post_df$text %>%\n",
        "  strsplit(\" \") %>%\n",
        "  # strsplit(gsub(\"[^[:alnum:] ]\", \"\", str), \" +\") %>%\n",
        "  sapply(length) %>% \n",
        "  summary()"
      ],
      "execution_count": 24,
      "outputs": [
        {
          "output_type": "display_data",
          "data": {
            "text/plain": [
              "   Min. 1st Qu.  Median    Mean 3rd Qu.    Max. \n",
              "   23.0   569.0   660.0   596.4   687.0   906.0 "
            ]
          },
          "metadata": {
            "tags": []
          }
        }
      ]
    },
    {
      "cell_type": "code",
      "metadata": {
        "id": "AY44BB6L25f8"
      },
      "source": [
        "#define our Text Vectorization layer, it will be responsible to take the string input and convert it to a Tensor\n",
        "num_words <- 12000\n",
        "max_length <- 700\n",
        "text_vectorization <- layer_text_vectorization(\n",
        "  max_tokens = num_words, \n",
        "  output_sequence_length = max_length, \n",
        "  # output_mode = 'tf-idf',\n",
        "  # ngrams = 2,\n",
        "  # split = \"whitespace\"\n",
        ")"
      ],
      "execution_count": 25,
      "outputs": []
    },
    {
      "cell_type": "code",
      "metadata": {
        "id": "BCFlvJ-c3JgI"
      },
      "source": [
        "#Apply on our text\n",
        "text_vectorization %>% \n",
        "  adapt(post_df$text)"
      ],
      "execution_count": 26,
      "outputs": []
    },
    {
      "cell_type": "code",
      "metadata": {
        "id": "xcWp52eN3xaZ"
      },
      "source": [
        "#define our neural network in terms of keras layers\n",
        "input <- layer_input(shape = c(1), dtype = \"string\")\n",
        "\n",
        "output <- input %>% \n",
        "  text_vectorization() %>% \n",
        "  layer_embedding(input_dim = num_words + 1, output_dim = 256) %>%\n",
        "  layer_global_average_pooling_1d() %>%\n",
        "  # bidirectional(layer_lstm(units = 128)) %>%\n",
        "  # layer_dropout(0.5) %>%\n",
        "  # layer_dense(units = 1024, activation = \"relu\") %>%\n",
        "  # layer_dropout(0.5) %>%\n",
        "  layer_dense(units = 256, activation = \"relu\") %>%\n",
        "  layer_dropout(0.5) %>%\n",
        "  layer_dense(units = 128, activation = \"relu\") %>%\n",
        "  layer_dropout(0.5) %>%\n",
        "  layer_dense(units = 1, activation = \"sigmoid\")"
      ],
      "execution_count": 59,
      "outputs": []
    },
    {
      "cell_type": "code",
      "metadata": {
        "id": "U7uTS_yp4UuO"
      },
      "source": [
        "#create model\n",
        "model <- keras_model(input, output)"
      ],
      "execution_count": 60,
      "outputs": []
    },
    {
      "cell_type": "code",
      "metadata": {
        "id": "yChsz2QJ4eSl"
      },
      "source": [
        "#compile model by defining optimizer, loss function and evaluation metric\n",
        "model %>% compile(\n",
        "  optimizer = 'adam',\n",
        "  loss = 'binary_crossentropy',\n",
        "  metrics = list('AUC')\n",
        ")"
      ],
      "execution_count": 61,
      "outputs": []
    },
    {
      "cell_type": "code",
      "metadata": {
        "id": "kqt6eV5I4ij4"
      },
      "source": [
        "# start the run\n",
        "history <- model %>% fit(\n",
        "  train$text,\n",
        "  as.numeric(train$decision == \"Proceed\"),\n",
        "  epochs = 3,\n",
        "  batch_size = 32,\n",
        "  class_weight = list('1':5.,'0':95.),\n",
        "  validation_split = 0.2,\n",
        "  verbose=2\n",
        ")"
      ],
      "execution_count": 62,
      "outputs": []
    },
    {
      "cell_type": "code",
      "metadata": {
        "colab": {
          "base_uri": "https://localhost:8080/",
          "height": 35
        },
        "id": "J7dHOOUt4ylK",
        "outputId": "a2896ba3-ad35-468f-bbbc-435cebd1723a"
      },
      "source": [
        "#evaluate model on test dataset\n",
        "results <- model %>% evaluate(test$text, as.numeric(test$decision == \"Proceed\"), verbose = 0)\n",
        "results"
      ],
      "execution_count": 63,
      "outputs": [
        {
          "output_type": "display_data",
          "data": {
            "text/plain": [
              "     loss       auc \n",
              "0.1784566 0.8183951 "
            ],
            "text/latex": "\\begin{description*}\n\\item[loss] 0.178456649184227\n\\item[auc] 0.818395137786865\n\\end{description*}\n",
            "text/markdown": "loss\n:   0.178456649184227auc\n:   0.818395137786865\n\n",
            "text/html": [
              "<style>\n",
              ".dl-inline {width: auto; margin:0; padding: 0}\n",
              ".dl-inline>dt, .dl-inline>dd {float: none; width: auto; display: inline-block}\n",
              ".dl-inline>dt::after {content: \":\\0020\"; padding-right: .5ex}\n",
              ".dl-inline>dt:not(:first-of-type) {padding-left: .5ex}\n",
              "</style><dl class=dl-inline><dt>loss</dt><dd>0.178456649184227</dd><dt>auc</dt><dd>0.818395137786865</dd></dl>\n"
            ]
          },
          "metadata": {
            "tags": []
          }
        }
      ]
    },
    {
      "cell_type": "code",
      "metadata": {
        "colab": {
          "base_uri": "https://localhost:8080/",
          "height": 437
        },
        "id": "t6H5DV8qmiTP",
        "outputId": "7176a328-c59d-4554-b339-534dc0cac775"
      },
      "source": [
        "# plot how the loss and AUC metric component on each epoch\n",
        "plot(history)"
      ],
      "execution_count": 64,
      "outputs": [
        {
          "output_type": "display_data",
          "data": {
            "image/png": "[encoded data removed]",
            "text/plain": [
              "plot without title"
            ]
          },
          "metadata": {
            "tags": [],
            "image/png": {
              "width": 420,
              "height": 420
            }
          }
        }
      ]
    },
    {
      "cell_type": "code",
      "metadata": {
        "id": "wTvbc6K7_Acj"
      },
      "source": [
        "#predict on our test set\n",
        "preds <- model %>% predict_on_batch(test$text)"
      ],
      "execution_count": 65,
      "outputs": []
    },
    {
      "cell_type": "code",
      "metadata": {
        "id": "1s8UwjgDuIjy"
      },
      "source": [
        "# convert the decision test set into factors\n",
        "y_test = as.factor(test$decision)\n",
        "levels(y_test) = c(1,0)"
      ],
      "execution_count": 66,
      "outputs": []
    },
    {
      "cell_type": "code",
      "metadata": {
        "colab": {
          "base_uri": "https://localhost:8080/"
        },
        "id": "gFKtjQaAtTLU",
        "outputId": "73150b10-65f0-424d-acdc-2fec9b203699"
      },
      "source": [
        "#for each of the different threshold on model prediction, print the confusion matrix\n",
        "#Note : Model will predict the decision in terms of probability value (between 0 and 1)\n",
        "for (t in c(0.4,0.45,0.5,0.55,0.6))\n",
        "{\n",
        "  pred2 = as.numeric(preds > t)\n",
        "  pred2 = as.factor(pred2)\n",
        "  print(table(y_test,pred2))\n",
        "}"
      ],
      "execution_count": 67,
      "outputs": [
        {
          "output_type": "stream",
          "text": [
            "      pred2\n",
            "y_test   0   1\n",
            "     1  40   7\n",
            "     0 999   3\n",
            "      pred2\n",
            "y_test    0    1\n",
            "     1   41    6\n",
            "     0 1000    2\n",
            "      pred2\n",
            "y_test    0    1\n",
            "     1   43    4\n",
            "     0 1001    1\n",
            "      pred2\n",
            "y_test    0\n",
            "     1   47\n",
            "     0 1002\n",
            "      pred2\n",
            "y_test    0\n",
            "     1   47\n",
            "     0 1002\n"
          ],
          "name": "stdout"
        }
      ]
    },
    {
      "cell_type": "code",
      "metadata": {
        "id": "RBLPfuv6DWAV"
      },
      "source": [
        "# Choose the one which gives best result\n",
        "pred2 = as.numeric(preds > 0.4)\n",
        "pred2 = as.factor(pred2)"
      ],
      "execution_count": 68,
      "outputs": []
    },
    {
      "cell_type": "code",
      "metadata": {
        "colab": {
          "base_uri": "https://localhost:8080/",
          "height": 90
        },
        "id": "cmYW9bSe8-nL",
        "outputId": "20486ab1-8f24-4331-9d2f-455e22db5865"
      },
      "source": [
        "#print the confusion matrix\n",
        "table(y_test,pred2)"
      ],
      "execution_count": 69,
      "outputs": [
        {
          "output_type": "display_data",
          "data": {
            "text/plain": [
              "      pred2\n",
              "y_test   0   1\n",
              "     1  40   7\n",
              "     0 999   3"
            ]
          },
          "metadata": {
            "tags": []
          }
        }
      ]
    },
    {
      "cell_type": "code",
      "metadata": {
        "colab": {
          "base_uri": "https://localhost:8080/",
          "height": 545
        },
        "id": "S6Nhl0S35Ppm",
        "outputId": "48cd6b29-99d2-4e6f-ed01-b6fdcfe25b64"
      },
      "source": [
        "# print the confusion matrix with detailed report\n",
        "confusionMatrix(y_test,pred2, dnn = c(\"Proceed\", \"Turndown\"))"
      ],
      "execution_count": 72,
      "outputs": [
        {
          "output_type": "stream",
          "text": [
            "Warning message in confusionMatrix.default(y_test, pred2, dnn = c(\"Proceed\", \"Turndown\")):\n",
            "“Levels are not in the same order for reference and data. Refactoring data to match.”\n"
          ],
          "name": "stderr"
        },
        {
          "output_type": "display_data",
          "data": {
            "text/plain": [
              "Confusion Matrix and Statistics\n",
              "\n",
              "       Turndown\n",
              "Proceed   0   1\n",
              "      0 999   3\n",
              "      1  40   7\n",
              "                                          \n",
              "               Accuracy : 0.959           \n",
              "                 95% CI : (0.9452, 0.9702)\n",
              "    No Information Rate : 0.9905          \n",
              "    P-Value [Acc > NIR] : 1               \n",
              "                                          \n",
              "                  Kappa : 0.2336          \n",
              "                                          \n",
              " Mcnemar's Test P-Value : 4.021e-08       \n",
              "                                          \n",
              "            Sensitivity : 0.9615          \n",
              "            Specificity : 0.7000          \n",
              "         Pos Pred Value : 0.9970          \n",
              "         Neg Pred Value : 0.1489          \n",
              "             Prevalence : 0.9905          \n",
              "         Detection Rate : 0.9523          \n",
              "   Detection Prevalence : 0.9552          \n",
              "      Balanced Accuracy : 0.8308          \n",
              "                                          \n",
              "       'Positive' Class : 0               \n",
              "                                          "
            ]
          },
          "metadata": {
            "tags": []
          }
        }
      ]
    },
    {
      "cell_type": "markdown",
      "metadata": {
        "id": "MjAMhSR2yuB3"
      },
      "source": [
        "Approach 2: Using Document Term Matrix and Classifier"
      ]
    },
    {
      "cell_type": "code",
      "metadata": {
        "id": "OT-JsiCKlpuC"
      },
      "source": [
        "# coerces post into a Document Term Matrix\n",
        "dtm <- DocumentTermMatrix(post)"
      ],
      "execution_count": 73,
      "outputs": []
    },
    {
      "cell_type": "code",
      "metadata": {
        "colab": {
          "base_uri": "https://localhost:8080/",
          "height": 108
        },
        "id": "mCvhDGp_y4HX",
        "outputId": "b9a34dc0-b2e3-4f87-93d2-44c2765c224f"
      },
      "source": [
        "dtm"
      ],
      "execution_count": 74,
      "outputs": [
        {
          "output_type": "display_data",
          "data": {
            "text/plain": [
              "<<DocumentTermMatrix (documents: 4199, terms: 110587)>>\n",
              "Non-/sparse entries: 1304583/463050230\n",
              "Sparsity           : 100%\n",
              "Maximal term length: 837\n",
              "Weighting          : term frequency (tf)"
            ]
          },
          "metadata": {
            "tags": []
          }
        }
      ]
    },
    {
      "cell_type": "code",
      "metadata": {
        "id": "uDhTaXD1y7P9"
      },
      "source": [
        "# Sum all columns(words) to get frequency\n",
        "words_frequency <- colSums(as.matrix(dtm)) "
      ],
      "execution_count": 75,
      "outputs": []
    },
    {
      "cell_type": "code",
      "metadata": {
        "colab": {
          "base_uri": "https://localhost:8080/",
          "height": 35
        },
        "id": "J2QaLjmdy9Md",
        "outputId": "3267dcec-3395-4160-802e-c6f738d23510"
      },
      "source": [
        "# verify that the terms are still equal to dtm\n",
        "length(words_frequency)"
      ],
      "execution_count": 76,
      "outputs": [
        {
          "output_type": "display_data",
          "data": {
            "text/plain": [
              "[1] 110587"
            ],
            "text/latex": "110587",
            "text/markdown": "110587",
            "text/html": [
              "110587"
            ]
          },
          "metadata": {
            "tags": []
          }
        }
      ]
    },
    {
      "cell_type": "code",
      "metadata": {
        "id": "ePtQRTlpy-kR"
      },
      "source": [
        "# create sort order (descending) for matrix\n",
        "ord <- order(words_frequency, decreasing=TRUE)"
      ],
      "execution_count": 77,
      "outputs": []
    },
    {
      "cell_type": "code",
      "metadata": {
        "colab": {
          "base_uri": "https://localhost:8080/",
          "height": 272
        },
        "id": "RKNoBi4yy__7",
        "outputId": "001c965d-4147-4f7d-d7d7-b7066fe66557"
      },
      "source": [
        "# get the top 10 words by frequency of appearance\n",
        "words_frequency[head(ord, 10)] %>% \n",
        "  kable()"
      ],
      "execution_count": 78,
      "outputs": [
        {
          "output_type": "display_data",
          "data": {
            "text/plain": [
              "\n",
              "\n",
              "|          |     x|\n",
              "|:---------|-----:|\n",
              "|health    | 45884|\n",
              "|will      | 44901|\n",
              "|communiti | 21023|\n",
              "|provid    | 16622|\n",
              "|care      | 16522|\n",
              "|program   | 16054|\n",
              "|project   | 15726|\n",
              "|patient   | 13127|\n",
              "|use       | 12927|\n",
              "|can       | 11623|"
            ]
          },
          "metadata": {
            "tags": []
          }
        }
      ]
    },
    {
      "cell_type": "code",
      "metadata": {
        "colab": {
          "base_uri": "https://localhost:8080/"
        },
        "id": "TgRn_VqhzBOu",
        "outputId": "18de8ecd-dae9-4c1d-add6-8e43d0ec06f8"
      },
      "source": [
        "  # convert our \"clean\" corpus into a tfidf weighted dtm\n",
        "removeSparseTerms(DocumentTermMatrix(post, control = list(weighting = weightTfIdf)),0.88) -> dtm_tfidf"
      ],
      "execution_count": 127,
      "outputs": [
        {
          "output_type": "stream",
          "text": [
            "Warning message in TermDocumentMatrix.SimpleCorpus(x, control):\n",
            "“custom functions are ignored”\n"
          ],
          "name": "stderr"
        }
      ]
    },
    {
      "cell_type": "code",
      "metadata": {
        "colab": {
          "base_uri": "https://localhost:8080/",
          "height": 108
        },
        "id": "O2uJZkR7zEBC",
        "outputId": "09d5baf9-1cc9-4f67-b13f-8ade87127ba4"
      },
      "source": [
        "# View details of tfidf weighted dtm\n",
        "dtm_tfidf"
      ],
      "execution_count": 128,
      "outputs": [
        {
          "output_type": "display_data",
          "data": {
            "text/plain": [
              "<<DocumentTermMatrix (documents: 4199, terms: 629)>>\n",
              "Non-/sparse entries: 717299/1923872\n",
              "Sparsity           : 73%\n",
              "Maximal term length: 12\n",
              "Weighting          : term frequency - inverse document frequency (normalized) (tf-idf)"
            ]
          },
          "metadata": {
            "tags": []
          }
        }
      ]
    },
    {
      "cell_type": "code",
      "metadata": {
        "id": "71T8OIKnzFqE"
      },
      "source": [
        "dtm_tfidf_df = as.data.frame(as.matrix(dtm_tfidf), stringsAsFactors=False)\n",
        "\n",
        "dtm_tfidf_df$target_decision = df2$decision"
      ],
      "execution_count": 129,
      "outputs": []
    },
    {
      "cell_type": "code",
      "metadata": {
        "id": "EB4tJM8ZzIpL"
      },
      "source": [
        "#train test split\n",
        "set.seed(123)\n",
        "train.index <- createDataPartition(dtm_tfidf_df$target_decision, p = .75, list = FALSE)\n",
        "train <- dtm_tfidf_df[ train.index,]\n",
        "test  <- dtm_tfidf_df[-train.index,]"
      ],
      "execution_count": 130,
      "outputs": []
    },
    {
      "cell_type": "code",
      "metadata": {
        "colab": {
          "base_uri": "https://localhost:8080/"
        },
        "id": "ferA7IuQ1pzD",
        "outputId": "31c7493d-6f77-4439-a311-bbb7c663915b"
      },
      "source": [
        "install.packages('abind')\n",
        "install.packages('zoo')\n",
        "install.packages('xts')\n",
        "install.packages('quantmod')\n",
        "install.packages('ROCR')\n",
        "install.packages('randomForest')\n",
        "install.packages('gbm')"
      ],
      "execution_count": 101,
      "outputs": [
        {
          "output_type": "stream",
          "text": [
            "Installing package into ‘/usr/local/lib/R/site-library’\n",
            "(as ‘lib’ is unspecified)\n",
            "\n",
            "Installing package into ‘/usr/local/lib/R/site-library’\n",
            "(as ‘lib’ is unspecified)\n",
            "\n",
            "Installing package into ‘/usr/local/lib/R/site-library’\n",
            "(as ‘lib’ is unspecified)\n",
            "\n",
            "Installing package into ‘/usr/local/lib/R/site-library’\n",
            "(as ‘lib’ is unspecified)\n",
            "\n",
            "also installing the dependency ‘TTR’\n",
            "\n",
            "\n",
            "Installing package into ‘/usr/local/lib/R/site-library’\n",
            "(as ‘lib’ is unspecified)\n",
            "\n",
            "also installing the dependencies ‘bitops’, ‘gtools’, ‘caTools’, ‘gplots’\n",
            "\n",
            "\n",
            "Installing package into ‘/usr/local/lib/R/site-library’\n",
            "(as ‘lib’ is unspecified)\n",
            "\n",
            "Warning message:\n",
            "“package ‘DMwR’ is not available for this version of R\n",
            "\n",
            "A version of this package for your version of R might be available elsewhere,\n",
            "see the ideas at\n",
            "https://cran.r-project.org/doc/manuals/r-patched/R-admin.html#Installing-packages”\n"
          ],
          "name": "stderr"
        }
      ]
    },
    {
      "cell_type": "code",
      "metadata": {
        "id": "u-5pXoGp_ghd"
      },
      "source": [
        "#download folder from -> https://cran.r-project.org/src/contrib/Archive/DMwR/DMwR_0.4.1.tar.gz\n",
        "#once downloaded run below command to install. Ensure the path is correct where the folder is kept\n",
        "\n",
        "# install.packages( \"/content/DMwR_0.4.1.tar.gz\", repos=NULL, type=\"source\" )"
      ],
      "execution_count": 155,
      "outputs": []
    },
    {
      "cell_type": "code",
      "metadata": {
        "colab": {
          "base_uri": "https://localhost:8080/"
        },
        "id": "JsfcUCKozSLc",
        "outputId": "98224763-c0bf-4457-bdcb-5370b0b3b618"
      },
      "source": [
        "library(e1071)\n",
        "library(randomForest)\n",
        "library(gbm)\n",
        "library(DMwR)\n",
        "library(pROC) # for AUC calculations"
      ],
      "execution_count": 109,
      "outputs": [
        {
          "output_type": "stream",
          "text": [
            "Type 'citation(\"pROC\")' for a citation.\n",
            "\n",
            "\n",
            "Attaching package: ‘pROC’\n",
            "\n",
            "\n",
            "The following objects are masked from ‘package:stats’:\n",
            "\n",
            "    cov, smooth, var\n",
            "\n",
            "\n"
          ],
          "name": "stderr"
        }
      ]
    },
    {
      "cell_type": "code",
      "metadata": {
        "id": "0CxM4UvJzUdI"
      },
      "source": [
        "trControl <- trainControl(method = 'cv',\n",
        "                          number = 5)\n",
        "\n",
        "model_CV <- train(target_decision~., \n",
        "                  data = train,\n",
        "                  method = 'rf',\n",
        "                  trControl = trControl)"
      ],
      "execution_count": null,
      "outputs": []
    },
    {
      "cell_type": "code",
      "metadata": {
        "id": "_-dxthkw0orI"
      },
      "source": [
        "# Set up control function for training\n",
        "ctrl <- trainControl(method = \"repeatedcv\",\n",
        "                     number = 5,\n",
        "                     repeats = 3,\n",
        "                     summaryFunction = twoClassSummary,\n",
        "                     classProbs = TRUE)"
      ],
      "execution_count": 133,
      "outputs": []
    },
    {
      "cell_type": "code",
      "metadata": {
        "id": "Ddo_C3eT00so"
      },
      "source": [
        "# Build smote model (Smote is used for class balance)\n",
        "ctrl$sampling <- \"smote\"\n",
        "smote_fit <- train(target_decision ~ .,\n",
        "                   data = train,\n",
        "                   method = \"gbm\",\n",
        "                   verbose = FALSE,\n",
        "                   metric = \"ROC\",\n",
        "                   trControl = ctrl)"
      ],
      "execution_count": 156,
      "outputs": []
    },
    {
      "cell_type": "code",
      "metadata": {
        "id": "wSE1K-2gAUDW"
      },
      "source": [
        "# Build custom AUC function to extract AUC\n",
        "# from the caret model object\n",
        "test_roc <- function(model, data) {\n",
        "  \n",
        "  roc(data$target_decision,\n",
        "      predict(model, data, type = \"prob\")[, \"Proceed\"])\n",
        "}\n"
      ],
      "execution_count": 141,
      "outputs": []
    },
    {
      "cell_type": "code",
      "metadata": {
        "colab": {
          "base_uri": "https://localhost:8080/",
          "height": 107
        },
        "id": "PIrTF1jPAUNO",
        "outputId": "7c089686-6b83-4862-b303-f3dc74b5451d"
      },
      "source": [
        "# Print AUC score\n",
        "smote_fit %>%\n",
        "  test_roc(data = test) %>%\n",
        "  auc()"
      ],
      "execution_count": 142,
      "outputs": [
        {
          "output_type": "stream",
          "text": [
            "Setting levels: control = Proceed, case = Turndown\n",
            "\n",
            "Setting direction: controls > cases\n",
            "\n"
          ],
          "name": "stderr"
        },
        {
          "output_type": "display_data",
          "data": {
            "text/plain": [
              "Area under the curve: 0.7976"
            ],
            "text/latex": "0.797575062640676",
            "text/markdown": "0.797575062640676",
            "text/html": [
              "0.797575062640676"
            ]
          },
          "metadata": {
            "tags": []
          }
        }
      ]
    },
    {
      "cell_type": "code",
      "metadata": {
        "id": "3vPNpwyczbZv"
      },
      "source": [
        "# fetch prediction in form of class and probabilities\n",
        "class <- predict(smote_fit, test)\n",
        "probs <- predict(smote_fit, test,'prob')"
      ],
      "execution_count": 144,
      "outputs": []
    },
    {
      "cell_type": "code",
      "metadata": {
        "colab": {
          "base_uri": "https://localhost:8080/",
          "height": 90
        },
        "id": "4K75I4WazezX",
        "outputId": "db662511-a93c-4053-d3bb-119b5ef52729"
      },
      "source": [
        "#print confusion matrix\n",
        "table(as.factor(test$target_decision),class)"
      ],
      "execution_count": 145,
      "outputs": [
        {
          "output_type": "display_data",
          "data": {
            "text/plain": [
              "          class\n",
              "           Proceed Turndown\n",
              "  Proceed       34       13\n",
              "  Turndown     245      757"
            ]
          },
          "metadata": {
            "tags": []
          }
        }
      ]
    },
    {
      "cell_type": "code",
      "metadata": {
        "colab": {
          "base_uri": "https://localhost:8080/",
          "height": 508
        },
        "id": "awFPKFrHBDHX",
        "outputId": "8acc768b-4dc4-4438-d90b-6dff4741cf96"
      },
      "source": [
        "#print detailed confusion matrix report\n",
        "confusionMatrix(as.factor(test$target_decision),class)"
      ],
      "execution_count": 139,
      "outputs": [
        {
          "output_type": "display_data",
          "data": {
            "text/plain": [
              "Confusion Matrix and Statistics\n",
              "\n",
              "          Reference\n",
              "Prediction Proceed Turndown\n",
              "  Proceed       21       26\n",
              "  Turndown      82      920\n",
              "                                         \n",
              "               Accuracy : 0.897          \n",
              "                 95% CI : (0.877, 0.9148)\n",
              "    No Information Rate : 0.9018         \n",
              "    P-Value [Acc > NIR] : 0.719          \n",
              "                                         \n",
              "                  Kappa : 0.2328         \n",
              "                                         \n",
              " Mcnemar's Test P-Value : 1.207e-07      \n",
              "                                         \n",
              "            Sensitivity : 0.20388        \n",
              "            Specificity : 0.97252        \n",
              "         Pos Pred Value : 0.44681        \n",
              "         Neg Pred Value : 0.91816        \n",
              "             Prevalence : 0.09819        \n",
              "         Detection Rate : 0.02002        \n",
              "   Detection Prevalence : 0.04480        \n",
              "      Balanced Accuracy : 0.58820        \n",
              "                                         \n",
              "       'Positive' Class : Proceed        \n",
              "                                         "
            ]
          },
          "metadata": {
            "tags": []
          }
        }
      ]
    },
    {
      "cell_type": "code",
      "metadata": {
        "id": "xKR3hLomBQIS"
      },
      "source": [
        ""
      ],
      "execution_count": null,
      "outputs": []
    }
  ]
}